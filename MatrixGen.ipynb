{
 "cells": [
  {
   "cell_type": "code",
   "execution_count": 19,
   "metadata": {
    "collapsed": false
   },
   "outputs": [
    {
     "name": "stdout",
     "output_type": "stream",
     "text": [
      "[[4 5 0]\n",
      " [1 9 3]\n",
      " [5 1 1]\n",
      " [3 3 3]\n",
      " [9 9 9]\n",
      " [4 7 1]]\n"
     ]
    }
   ],
   "source": [
    "import numpy as np\n",
    "x = np.array([[4, 5, 0], \n",
    "             [1, 9, 3],              \n",
    "             [5, 1, 1],\n",
    "             [3, 3, 3], \n",
    "             [9, 9, 9], \n",
    "             [4, 7, 1]])\n",
    "print(x)"
   ]
  },
  {
   "cell_type": "code",
   "execution_count": 21,
   "metadata": {
    "collapsed": false
   },
   "outputs": [
    {
     "name": "stdout",
     "output_type": "stream",
     "text": [
      "[[-0.13736056 -0.2236068  -0.95481513]\n",
      " [-1.37360564  1.11803399  0.0561656 ]\n",
      " [ 0.27472113 -1.56524758 -0.61782155]\n",
      " [-0.54944226 -0.89442719  0.0561656 ]\n",
      " [ 1.9230479   1.11803399  2.07812704]\n",
      " [-0.13736056  0.4472136  -0.61782155]]\n"
     ]
    }
   ],
   "source": [
    "m = np.mean(x, axis=0)\n",
    "std = np.std(x, axis=0)\n",
    "x_norm = ((x - m)/std)\n",
    "print(x_norm)"
   ]
  },
  {
   "cell_type": "code",
   "execution_count": 29,
   "metadata": {
    "collapsed": false
   },
   "outputs": [
    {
     "name": "stdout",
     "output_type": "stream",
     "text": [
      "[ 9 13  7  9 27 12]\n",
      "(array([0, 2, 3], dtype=int64),)\n"
     ]
    }
   ],
   "source": [
    "z = np.array([[4, 5, 0], \n",
    "             [1, 9, 3],              \n",
    "             [5, 1, 1],\n",
    "             [3, 3, 3], \n",
    "             [9, 9, 9], \n",
    "             [4, 7, 1]])\n",
    "r = np.sum(z, axis=1)\n",
    "print(r)\n",
    "print (np.nonzero(r < 10))"
   ]
  },
  {
   "cell_type": "code",
   "execution_count": 32,
   "metadata": {
    "collapsed": false,
    "scrolled": true
   },
   "outputs": [
    {
     "name": "stdout",
     "output_type": "stream",
     "text": [
      "[[ 1.  0.  0.]\n",
      " [ 0.  1.  0.]\n",
      " [ 0.  0.  1.]]\n",
      "[[ 1.  0.  0.]\n",
      " [ 0.  1.  0.]\n",
      " [ 0.  0.  1.]]\n",
      "[[ 1.  0.  0.]\n",
      " [ 0.  1.  0.]\n",
      " [ 0.  0.  1.]\n",
      " [ 1.  0.  0.]\n",
      " [ 0.  1.  0.]\n",
      " [ 0.  0.  1.]]\n"
     ]
    }
   ],
   "source": [
    "a = np.eye(3)\n",
    "b = np.eye(3)\n",
    "print(a)\n",
    "print(b)\n",
    "ab = np.vstack((a,b))\n",
    "print(ab)"
   ]
  }
 ],
 "metadata": {
  "kernelspec": {
   "display_name": "Python 3",
   "language": "python",
   "name": "python3"
  },
  "language_info": {
   "codemirror_mode": {
    "name": "ipython",
    "version": 3
   },
   "file_extension": ".py",
   "mimetype": "text/x-python",
   "name": "python",
   "nbconvert_exporter": "python",
   "pygments_lexer": "ipython3",
   "version": "3.5.1"
  }
 },
 "nbformat": 4,
 "nbformat_minor": 0
}
